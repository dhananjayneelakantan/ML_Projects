{
 "cells": [
  {
   "cell_type": "code",
   "execution_count": 5,
   "metadata": {},
   "outputs": [],
   "source": [
    "import geocoder\n",
    "g1 = geocoder.geocodefarm\n",
    "g4 = geocoder.osm\n",
    "g5 = geocoder.uscensus\n",
    "g6 = geocoder.yandex"
   ]
  },
  {
   "cell_type": "code",
   "execution_count": 359,
   "metadata": {},
   "outputs": [
    {
     "name": "stdout",
     "output_type": "stream",
     "text": [
      "['__author__', '__author_email__', '__builtins__', '__cached__', '__copyright__', '__doc__', '__file__', '__license__', '__loader__', '__name__', '__package__', '__path__', '__spec__', '__title__', '__version__', 'absolute_import', 'api', 'arcgis', 'arcgis_reverse', 'baidu', 'baidu_reverse', 'base', 'bing', 'bing_batch', 'bing_batch_forward', 'bing_batch_reverse', 'bing_reverse', 'canadapost', 'cli', 'distance', 'elevation', 'freegeoip', 'gaode', 'gaode_reverse', 'geocodefarm', 'geocodefarm_reverse', 'geolytica', 'geonames', 'geonames_children', 'geonames_details', 'geonames_hierarchy', 'get', 'gisgraphy', 'gisgraphy_reverse', 'google', 'google_elevation', 'google_places', 'google_reverse', 'google_timezone', 'here', 'here_reverse', 'ip', 'ipinfo', 'keys', 'komoot', 'komoot_reverse', 'location', 'locationiq', 'locationiq_reverse', 'mapbox', 'mapbox_reverse', 'mapquest', 'mapquest_batch', 'mapquest_reverse', 'mapzen', 'mapzen_reverse', 'maxmind', 'nokia', 'opencage', 'opencage_reverse', 'osm', 'osm_reverse', 'ottawa', 'places', 'reverse', 'tamu', 'tgos', 'timezone', 'tomtom', 'uscensus', 'uscensus_batch', 'uscensus_reverse', 'w3w', 'w3w_reverse', 'yahoo', 'yandex', 'yandex_reverse']\n"
     ]
    }
   ],
   "source": [
    "print(dir(geocoder))"
   ]
  },
  {
   "cell_type": "code",
   "execution_count": 7,
   "metadata": {},
   "outputs": [
    {
     "name": "stdout",
     "output_type": "stream",
     "text": [
      "None\n"
     ]
    }
   ],
   "source": [
    "g1 = geocoder.geocodefarm('78660') # multiple iteration required, no apt, good\n",
    "print(g1.osm) #good.discards unwanted stuff."
   ]
  },
  {
   "cell_type": "code",
   "execution_count": 9,
   "metadata": {},
   "outputs": [],
   "source": [
    "# g2 = geocoder.geolytica('78660') # Pretty good and fast. Check for zip. No zip, good no zip\n",
    "# print(g2.osm)"
   ]
  },
  {
   "cell_type": "code",
   "execution_count": 16,
   "metadata": {},
   "outputs": [
    {
     "name": "stdout",
     "output_type": "stream",
     "text": [
      "-111.982390145405\n"
     ]
    }
   ],
   "source": [
    "g4 = geocoder.osm('84041') #no result, good 2nd run,no result for large strings, no aptnum, no reult, no results\n",
    "print(g4.osm['x'])"
   ]
  },
  {
   "cell_type": "code",
   "execution_count": 17,
   "metadata": {},
   "outputs": [
    {
     "name": "stdout",
     "output_type": "stream",
     "text": [
      "None\n"
     ]
    }
   ],
   "source": [
    "g5 = geocoder.uscensus('845 GOLDWOOD DRIVE Empire Solar Group Layton, Utah 84041') #,good, no result for large strings, no reult, no result, good\n",
    "print(g5.osm)"
   ]
  },
  {
   "cell_type": "code",
   "execution_count": 18,
   "metadata": {},
   "outputs": [
    {
     "name": "stdout",
     "output_type": "stream",
     "text": [
      "{'x': '67.671671', 'y': '34.09936', 'addr:state': 'Ghazni Province', 'addr:country': 'Afghanistan'}\n"
     ]
    }
   ],
   "source": [
    "g6 = geocoder.yandex('845 GOLDWOOD DRIVE Empire Solar Group Layton, Utah 84041') #(Works - no zip and apt)ok. Not great, not great - works,not working for large strings, no zip and apt, no zip and apt\n",
    "print(g6.osm)"
   ]
  },
  {
   "cell_type": "code",
   "execution_count": 334,
   "metadata": {},
   "outputs": [
    {
     "ename": "KeyError",
     "evalue": "'addr:country'",
     "output_type": "error",
     "traceback": [
      "\u001b[0;31m---------------------------------------------------------------------------\u001b[0m",
      "\u001b[0;31mKeyError\u001b[0m                                  Traceback (most recent call last)",
      "\u001b[0;32m<ipython-input-334-2d5751d37c83>\u001b[0m in \u001b[0;36m<module>\u001b[0;34m\u001b[0m\n\u001b[1;32m      7\u001b[0m \u001b[0mAddress_final1\u001b[0m \u001b[0;34m=\u001b[0m \u001b[0mHouse1\u001b[0m \u001b[0;34m+\u001b[0m \u001b[0;34m','\u001b[0m \u001b[0;34m+\u001b[0m \u001b[0mStreet1\u001b[0m \u001b[0;34m+\u001b[0m \u001b[0;34m','\u001b[0m \u001b[0;34m+\u001b[0m \u001b[0mCity1\u001b[0m \u001b[0;34m+\u001b[0m \u001b[0;34m','\u001b[0m \u001b[0;34m+\u001b[0m \u001b[0mState1\u001b[0m \u001b[0;34m+\u001b[0m \u001b[0;34m','\u001b[0m \u001b[0;34m+\u001b[0m \u001b[0mCountry1\u001b[0m \u001b[0;34m+\u001b[0m \u001b[0;34m','\u001b[0m \u001b[0;34m+\u001b[0m \u001b[0mZip1\u001b[0m\u001b[0;34m\u001b[0m\u001b[0;34m\u001b[0m\u001b[0m\n\u001b[1;32m      8\u001b[0m \u001b[0;34m\u001b[0m\u001b[0m\n\u001b[0;32m----> 9\u001b[0;31m \u001b[0mCountry2\u001b[0m \u001b[0;34m=\u001b[0m \u001b[0mg2\u001b[0m\u001b[0;34m.\u001b[0m\u001b[0mosm\u001b[0m\u001b[0;34m[\u001b[0m\u001b[0;34m\"addr:country\"\u001b[0m\u001b[0;34m]\u001b[0m\u001b[0;34m\u001b[0m\u001b[0;34m\u001b[0m\u001b[0m\n\u001b[0m\u001b[1;32m     10\u001b[0m \u001b[0mZip2\u001b[0m \u001b[0;34m=\u001b[0m \u001b[0mg2\u001b[0m\u001b[0;34m.\u001b[0m\u001b[0mosm\u001b[0m\u001b[0;34m[\u001b[0m\u001b[0;34m\"addr:postal\"\u001b[0m\u001b[0;34m]\u001b[0m\u001b[0;34m\u001b[0m\u001b[0;34m\u001b[0m\u001b[0m\n\u001b[1;32m     11\u001b[0m \u001b[0mState2\u001b[0m \u001b[0;34m=\u001b[0m \u001b[0mg2\u001b[0m\u001b[0;34m.\u001b[0m\u001b[0mosm\u001b[0m\u001b[0;34m[\u001b[0m\u001b[0;34m\"addr:state\"\u001b[0m\u001b[0;34m]\u001b[0m\u001b[0;34m\u001b[0m\u001b[0;34m\u001b[0m\u001b[0m\n",
      "\u001b[0;31mKeyError\u001b[0m: 'addr:country'"
     ]
    }
   ],
   "source": [
    "Country1 = g1.osm[\"addr:country\"]\n",
    "Zip1 = g1.osm[\"addr:postal\"]\n",
    "State1 = g1.osm[\"addr:state\"]\n",
    "City1 = g1.osm[\"addr:city\"]\n",
    "Street1 = g1.osm[\"addr:street\"]\n",
    "House1 = g1.osm[\"addr:housenumber\"]\n",
    "Address_final1 = House1 + ',' + Street1 + ',' + City1 + ',' + State1 + ',' + Country1 + ',' + Zip1\n",
    "\n",
    "Country2 = g2.osm[\"addr:country\"]\n",
    "Zip2 = g2.osm[\"addr:postal\"]\n",
    "State2 = g2.osm[\"addr:state\"]\n",
    "City2 = g2.osm[\"addr:city\"]\n",
    "Street2 = g2.osm[\"addr:street\"]\n",
    "House2 = g2.osm[\"addr:housenumber\"]\n",
    "Address_final2 = House2 + ',' + Street2 + ',' + City2 + ',' + State2 + ',' + Country2 + ',' + Zip2\n",
    "\n",
    "\n",
    "print (\"Address1 : \" , Address_final1)\n",
    "print (\"Address2 : \" , Address_final2)"
   ]
  },
  {
   "cell_type": "code",
   "execution_count": null,
   "metadata": {},
   "outputs": [],
   "source": []
  }
 ],
 "metadata": {
  "kernelspec": {
   "display_name": "Python 3",
   "language": "python",
   "name": "python3"
  },
  "language_info": {
   "codemirror_mode": {
    "name": "ipython",
    "version": 3
   },
   "file_extension": ".py",
   "mimetype": "text/x-python",
   "name": "python",
   "nbconvert_exporter": "python",
   "pygments_lexer": "ipython3",
   "version": "3.7.3"
  }
 },
 "nbformat": 4,
 "nbformat_minor": 2
}
