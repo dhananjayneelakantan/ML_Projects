{
 "cells": [
  {
   "cell_type": "code",
   "execution_count": 1,
   "metadata": {},
   "outputs": [],
   "source": [
    "from sklearn.feature_extraction.text import CountVectorizer, HashingVectorizer\n",
    "from sklearn import linear_model\n",
    "import datetime\n",
    "import pandas as pd\n",
    "import pickle        \n",
    "import numpy as np\n",
    "from sklearn import svm\n",
    "from sklearn.naive_bayes import MultinomialNB, GaussianNB\n",
    "from sklearn.model_selection import GridSearchCV"
   ]
  },
  {
   "cell_type": "code",
   "execution_count": 2,
   "metadata": {},
   "outputs": [],
   "source": [
    "data = pd.read_csv(\"equipment_training_set.csv\")\n",
    "    "
   ]
  },
  {
   "cell_type": "code",
   "execution_count": 3,
   "metadata": {},
   "outputs": [],
   "source": [
    "np.random.seed(42)"
   ]
  },
  {
   "cell_type": "code",
   "execution_count": 4,
   "metadata": {},
   "outputs": [],
   "source": [
    "X = data[\"String\"]\n",
    "y = data[\"Matching\"]"
   ]
  },
  {
   "cell_type": "code",
   "execution_count": 5,
   "metadata": {},
   "outputs": [],
   "source": [
    "from sklearn.model_selection import train_test_split"
   ]
  },
  {
   "cell_type": "code",
   "execution_count": 6,
   "metadata": {},
   "outputs": [],
   "source": [
    "X_train, X_test, y_train, y_test = train_test_split(X, y, test_size=0.33, random_state=42)\n"
   ]
  },
  {
   "cell_type": "code",
   "execution_count": 7,
   "metadata": {},
   "outputs": [],
   "source": [
    "cv = CountVectorizer()\n",
    "x_train = cv.fit_transform(X_train)\n"
   ]
  },
  {
   "cell_type": "code",
   "execution_count": 8,
   "metadata": {},
   "outputs": [],
   "source": [
    "tuned_parameters = {'kernel' : ['linear','rbf'],'gamma':[1e-3,1e-4],\n",
    "                       'C' : [1,10,100,1000]}"
   ]
  },
  {
   "cell_type": "code",
   "execution_count": 9,
   "metadata": {},
   "outputs": [],
   "source": [
    "#model2 with gridsearch\n",
    "clf = GridSearchCV(svm.SVC(),tuned_parameters)"
   ]
  },
  {
   "cell_type": "code",
   "execution_count": 10,
   "metadata": {},
   "outputs": [
    {
     "name": "stderr",
     "output_type": "stream",
     "text": [
      "/Users/dhananjayneelakantan/anaconda3/lib/python3.7/site-packages/sklearn/model_selection/_split.py:1978: FutureWarning: The default value of cv will change from 3 to 5 in version 0.22. Specify it explicitly to silence this warning.\n",
      "  warnings.warn(CV_WARNING, FutureWarning)\n"
     ]
    },
    {
     "data": {
      "text/plain": [
       "GridSearchCV(cv='warn', error_score='raise-deprecating',\n",
       "             estimator=SVC(C=1.0, cache_size=200, class_weight=None, coef0=0.0,\n",
       "                           decision_function_shape='ovr', degree=3,\n",
       "                           gamma='auto_deprecated', kernel='rbf', max_iter=-1,\n",
       "                           probability=False, random_state=None, shrinking=True,\n",
       "                           tol=0.001, verbose=False),\n",
       "             iid='warn', n_jobs=None,\n",
       "             param_grid={'C': [1, 10, 100, 1000], 'gamma': [0.001, 0.0001],\n",
       "                         'kernel': ['linear', 'rbf']},\n",
       "             pre_dispatch='2*n_jobs', refit=True, return_train_score=False,\n",
       "             scoring=None, verbose=0)"
      ]
     },
     "execution_count": 10,
     "metadata": {},
     "output_type": "execute_result"
    }
   ],
   "source": [
    "clf.fit(x_train,y_train)"
   ]
  },
  {
   "cell_type": "code",
   "execution_count": 11,
   "metadata": {},
   "outputs": [
    {
     "name": "stdout",
     "output_type": "stream",
     "text": [
      "Accuracy for test set is: 0.9979550102249489\n"
     ]
    }
   ],
   "source": [
    "print(\"Accuracy for test set is:\", clf.score(x_train,y_train))"
   ]
  },
  {
   "cell_type": "code",
   "execution_count": 12,
   "metadata": {},
   "outputs": [
    {
     "name": "stdout",
     "output_type": "stream",
     "text": [
      "{'C': 1, 'gamma': 0.001, 'kernel': 'linear'}\n"
     ]
    }
   ],
   "source": [
    "print(clf.best_params_)"
   ]
  },
  {
   "cell_type": "code",
   "execution_count": 13,
   "metadata": {},
   "outputs": [
    {
     "name": "stderr",
     "output_type": "stream",
     "text": [
      "/Users/dhananjayneelakantan/anaconda3/lib/python3.7/site-packages/sklearn/model_selection/_split.py:1978: FutureWarning: The default value of cv will change from 3 to 5 in version 0.22. Specify it explicitly to silence this warning.\n",
      "  warnings.warn(CV_WARNING, FutureWarning)\n",
      "/Users/dhananjayneelakantan/anaconda3/lib/python3.7/site-packages/sklearn/model_selection/_split.py:1978: FutureWarning: The default value of cv will change from 3 to 5 in version 0.22. Specify it explicitly to silence this warning.\n",
      "  warnings.warn(CV_WARNING, FutureWarning)\n",
      "/Users/dhananjayneelakantan/anaconda3/lib/python3.7/site-packages/sklearn/model_selection/_split.py:1978: FutureWarning: The default value of cv will change from 3 to 5 in version 0.22. Specify it explicitly to silence this warning.\n",
      "  warnings.warn(CV_WARNING, FutureWarning)\n",
      "/Users/dhananjayneelakantan/anaconda3/lib/python3.7/site-packages/sklearn/model_selection/_split.py:1978: FutureWarning: The default value of cv will change from 3 to 5 in version 0.22. Specify it explicitly to silence this warning.\n",
      "  warnings.warn(CV_WARNING, FutureWarning)\n",
      "/Users/dhananjayneelakantan/anaconda3/lib/python3.7/site-packages/sklearn/model_selection/_split.py:1978: FutureWarning: The default value of cv will change from 3 to 5 in version 0.22. Specify it explicitly to silence this warning.\n",
      "  warnings.warn(CV_WARNING, FutureWarning)\n",
      "/Users/dhananjayneelakantan/anaconda3/lib/python3.7/site-packages/sklearn/model_selection/_split.py:1978: FutureWarning: The default value of cv will change from 3 to 5 in version 0.22. Specify it explicitly to silence this warning.\n",
      "  warnings.warn(CV_WARNING, FutureWarning)\n",
      "/Users/dhananjayneelakantan/anaconda3/lib/python3.7/site-packages/sklearn/model_selection/_split.py:1978: FutureWarning: The default value of cv will change from 3 to 5 in version 0.22. Specify it explicitly to silence this warning.\n",
      "  warnings.warn(CV_WARNING, FutureWarning)\n",
      "/Users/dhananjayneelakantan/anaconda3/lib/python3.7/site-packages/sklearn/model_selection/_split.py:1978: FutureWarning: The default value of cv will change from 3 to 5 in version 0.22. Specify it explicitly to silence this warning.\n",
      "  warnings.warn(CV_WARNING, FutureWarning)\n",
      "/Users/dhananjayneelakantan/anaconda3/lib/python3.7/site-packages/sklearn/model_selection/_split.py:1978: FutureWarning: The default value of cv will change from 3 to 5 in version 0.22. Specify it explicitly to silence this warning.\n",
      "  warnings.warn(CV_WARNING, FutureWarning)\n",
      "/Users/dhananjayneelakantan/anaconda3/lib/python3.7/site-packages/sklearn/model_selection/_split.py:1978: FutureWarning: The default value of cv will change from 3 to 5 in version 0.22. Specify it explicitly to silence this warning.\n",
      "  warnings.warn(CV_WARNING, FutureWarning)\n"
     ]
    },
    {
     "data": {
      "text/plain": [
       "array([0.92857143, 0.93877551, 0.89795918, 0.91836735, 0.91752577])"
      ]
     },
     "execution_count": 13,
     "metadata": {},
     "output_type": "execute_result"
    }
   ],
   "source": [
    "from sklearn.model_selection import cross_val_score\n",
    "from sklearn.model_selection import cross_val_predict\n",
    "y_train_predict = cross_val_predict(clf, x_train, y_train, cv=5)\n",
    "cross_val_score(clf,x_train,y_train, cv=5, scoring=\"accuracy\")"
   ]
  },
  {
   "cell_type": "code",
   "execution_count": 14,
   "metadata": {},
   "outputs": [],
   "source": [
    "from sklearn.metrics import confusion_matrix\n"
   ]
  },
  {
   "cell_type": "code",
   "execution_count": 15,
   "metadata": {},
   "outputs": [
    {
     "data": {
      "text/plain": [
       "array([[288,  11],\n",
       "       [ 28, 162]])"
      ]
     },
     "execution_count": 15,
     "metadata": {},
     "output_type": "execute_result"
    }
   ],
   "source": [
    "confusion_matrix(y_train, y_train_predict)"
   ]
  },
  {
   "cell_type": "code",
   "execution_count": 16,
   "metadata": {},
   "outputs": [
    {
     "data": {
      "text/plain": [
       "0.9364161849710982"
      ]
     },
     "execution_count": 16,
     "metadata": {},
     "output_type": "execute_result"
    }
   ],
   "source": [
    "from sklearn.metrics import precision_score, recall_score\n",
    "precision_score(y_train, y_train_predict)\n",
    "#Claims that the string is an equipment name 93% of the time. Accuracy of the positive predictions"
   ]
  },
  {
   "cell_type": "code",
   "execution_count": 17,
   "metadata": {},
   "outputs": [
    {
     "data": {
      "text/plain": [
       "0.8526315789473684"
      ]
     },
     "execution_count": 17,
     "metadata": {},
     "output_type": "execute_result"
    }
   ],
   "source": [
    "recall_score(y_train, y_train_predict)\n",
    "#detects equipment addresses 85% of the time. Ratio of positive instances correctly detected by the classifier"
   ]
  },
  {
   "cell_type": "code",
   "execution_count": 18,
   "metadata": {},
   "outputs": [
    {
     "data": {
      "text/plain": [
       "0.8925619834710743"
      ]
     },
     "execution_count": 18,
     "metadata": {},
     "output_type": "execute_result"
    }
   ],
   "source": [
    "#F1 score - harmonic mean of precision and recall\n",
    "from sklearn.metrics import f1_score\n",
    "f1_score(y_train_predict, y_train)\n"
   ]
  },
  {
   "cell_type": "code",
   "execution_count": 19,
   "metadata": {},
   "outputs": [
    {
     "name": "stderr",
     "output_type": "stream",
     "text": [
      "/Users/dhananjayneelakantan/anaconda3/lib/python3.7/site-packages/sklearn/model_selection/_split.py:1978: FutureWarning: The default value of cv will change from 3 to 5 in version 0.22. Specify it explicitly to silence this warning.\n",
      "  warnings.warn(CV_WARNING, FutureWarning)\n",
      "/Users/dhananjayneelakantan/anaconda3/lib/python3.7/site-packages/sklearn/model_selection/_split.py:1978: FutureWarning: The default value of cv will change from 3 to 5 in version 0.22. Specify it explicitly to silence this warning.\n",
      "  warnings.warn(CV_WARNING, FutureWarning)\n",
      "/Users/dhananjayneelakantan/anaconda3/lib/python3.7/site-packages/sklearn/model_selection/_split.py:1978: FutureWarning: The default value of cv will change from 3 to 5 in version 0.22. Specify it explicitly to silence this warning.\n",
      "  warnings.warn(CV_WARNING, FutureWarning)\n",
      "/Users/dhananjayneelakantan/anaconda3/lib/python3.7/site-packages/sklearn/model_selection/_split.py:1978: FutureWarning: The default value of cv will change from 3 to 5 in version 0.22. Specify it explicitly to silence this warning.\n",
      "  warnings.warn(CV_WARNING, FutureWarning)\n",
      "/Users/dhananjayneelakantan/anaconda3/lib/python3.7/site-packages/sklearn/model_selection/_split.py:1978: FutureWarning: The default value of cv will change from 3 to 5 in version 0.22. Specify it explicitly to silence this warning.\n",
      "  warnings.warn(CV_WARNING, FutureWarning)\n"
     ]
    }
   ],
   "source": [
    "y_scores = cross_val_predict(clf, x_train, y_train, cv=5, method=\"decision_function\")\n",
    "from sklearn.metrics import precision_recall_curve\n",
    "precisions, recalls, thresholds = precision_recall_curve(y_train, y_scores)"
   ]
  },
  {
   "cell_type": "code",
   "execution_count": 20,
   "metadata": {},
   "outputs": [],
   "source": [
    "#ROC curve\n",
    "from matplotlib import pyplot as plt\n",
    "from sklearn.metrics import roc_curve\n",
    "fpr, tpr, thresholds = roc_curve(y_train, y_scores)"
   ]
  },
  {
   "cell_type": "code",
   "execution_count": 21,
   "metadata": {},
   "outputs": [],
   "source": [
    "def plot_roc_curve(fpr,tpr, label=None):\n",
    "    plt.plot(fpr,tpr,linewidth=2,label=label)\n",
    "    plt.plot([0,1],[0,1],'k--')\n",
    "    plt.axis([0,1,0,1])\n",
    "    plt.xlabel('False Positive Rate')\n",
    "    plt.ylabel('True Positive Rate')"
   ]
  },
  {
   "cell_type": "code",
   "execution_count": 22,
   "metadata": {
    "scrolled": false
   },
   "outputs": [
    {
     "data": {
      "image/png": "[encoded data removed]",
      "text/plain": [
       "<Figure size 432x288 with 1 Axes>"
      ]
     },
     "metadata": {
      "needs_background": "light"
     },
     "output_type": "display_data"
    }
   ],
   "source": [
    "plot_roc_curve(fpr, tpr)\n",
    "plt.show()"
   ]
  },
  {
   "cell_type": "code",
   "execution_count": 23,
   "metadata": {},
   "outputs": [
    {
     "data": {
      "text/plain": [
       "0.9684386551663439"
      ]
     },
     "execution_count": 23,
     "metadata": {},
     "output_type": "execute_result"
    }
   ],
   "source": [
    "#Compute ROC AUC\n",
    "from sklearn.metrics import roc_auc_score\n",
    "roc_auc_score(y_train, y_scores)"
   ]
  },
  {
   "cell_type": "code",
   "execution_count": 24,
   "metadata": {},
   "outputs": [],
   "source": [
    "x_test = cv.transform(X_test)"
   ]
  },
  {
   "cell_type": "code",
   "execution_count": 25,
   "metadata": {},
   "outputs": [
    {
     "name": "stdout",
     "output_type": "stream",
     "text": [
      "Not equipment\n"
     ]
    }
   ],
   "source": [
    "#Sample prediction\n",
    "sample_text = [\"32 HANWHA Q \"]\n",
    "vect = cv.transform(sample_text).toarray()\n",
    "if clf.predict(vect)==0:\n",
    "        print(\"Not equipment\")\n",
    "else:\n",
    "        print(\"This is classified as an equipment\")"
   ]
  },
  {
   "cell_type": "code",
   "execution_count": 26,
   "metadata": {},
   "outputs": [
    {
     "name": "stdout",
     "output_type": "stream",
     "text": [
      "Accuracy final :  0.950207468879668\n"
     ]
    }
   ],
   "source": [
    "print(\"Accuracy final : \", clf.score(x_test, y_test))"
   ]
  },
  {
   "cell_type": "code",
   "execution_count": 142,
   "metadata": {},
   "outputs": [],
   "source": [
    "                                        # #Adding \",1\" label to the end of each line\n",
    "# with open('Equip_Original_Data.csv', 'r') as istr:\n",
    "#     with open('Labeled_equip_original.csv', 'w') as ostr:\n",
    "#         for i, line in enumerate(istr):\n",
    "#             # Get rid of the trailing newline (if any).\n",
    "#             line = line.rstrip('\\n')\n",
    "#             line += ',1'\n",
    "#             print(line, file=ostr)"
   ]
  },
  {
   "cell_type": "code",
   "execution_count": 27,
   "metadata": {},
   "outputs": [
    {
     "data": {
      "text/html": [
       "<div>\n",
       "<style scoped>\n",
       "    .dataframe tbody tr th:only-of-type {\n",
       "        vertical-align: middle;\n",
       "    }\n",
       "\n",
       "    .dataframe tbody tr th {\n",
       "        vertical-align: top;\n",
       "    }\n",
       "\n",
       "    .dataframe thead th {\n",
       "        text-align: right;\n",
       "    }\n",
       "</style>\n",
       "<table border=\"1\" class=\"dataframe\">\n",
       "  <thead>\n",
       "    <tr style=\"text-align: right;\">\n",
       "      <th></th>\n",
       "      <th>Enphase Energy Inc.</th>\n",
       "      <th>IQ7-60-x-US (240V)</th>\n",
       "    </tr>\n",
       "  </thead>\n",
       "  <tbody>\n",
       "    <tr>\n",
       "      <th>0</th>\n",
       "      <td>Enphase Energy Inc.</td>\n",
       "      <td>IQ7PLUS-72-x-ACM-US (240V)</td>\n",
       "    </tr>\n",
       "    <tr>\n",
       "      <th>1</th>\n",
       "      <td>Enphase Energy Inc.</td>\n",
       "      <td>IQ7-60-x-US (240V)</td>\n",
       "    </tr>\n",
       "    <tr>\n",
       "      <th>2</th>\n",
       "      <td>TESLA</td>\n",
       "      <td>ACPOWERWALL2.0</td>\n",
       "    </tr>\n",
       "    <tr>\n",
       "      <th>3</th>\n",
       "      <td>SolarEdge Technologies Ltd.</td>\n",
       "      <td>SE11400H-US [240V]</td>\n",
       "    </tr>\n",
       "    <tr>\n",
       "      <th>4</th>\n",
       "      <td>Enphase Energy Inc.</td>\n",
       "      <td>IQ7-60-x-US (240V)</td>\n",
       "    </tr>\n",
       "  </tbody>\n",
       "</table>\n",
       "</div>"
      ],
      "text/plain": [
       "           Enphase Energy Inc.          IQ7-60-x-US (240V)\n",
       "0          Enphase Energy Inc.  IQ7PLUS-72-x-ACM-US (240V)\n",
       "1          Enphase Energy Inc.          IQ7-60-x-US (240V)\n",
       "2                        TESLA              ACPOWERWALL2.0\n",
       "3  SolarEdge Technologies Ltd.          SE11400H-US [240V]\n",
       "4          Enphase Energy Inc.          IQ7-60-x-US (240V)"
      ]
     },
     "execution_count": 27,
     "metadata": {},
     "output_type": "execute_result"
    }
   ],
   "source": [
    "data = pd.read_csv(\"Equip_Original_Data.csv\")\n",
    "data.head()"
   ]
  },
  {
   "cell_type": "code",
   "execution_count": 29,
   "metadata": {},
   "outputs": [
    {
     "data": {
      "text/html": [
       "<div>\n",
       "<style scoped>\n",
       "    .dataframe tbody tr th:only-of-type {\n",
       "        vertical-align: middle;\n",
       "    }\n",
       "\n",
       "    .dataframe tbody tr th {\n",
       "        vertical-align: top;\n",
       "    }\n",
       "\n",
       "    .dataframe thead th {\n",
       "        text-align: right;\n",
       "    }\n",
       "</style>\n",
       "<table border=\"1\" class=\"dataframe\">\n",
       "  <thead>\n",
       "    <tr style=\"text-align: right;\">\n",
       "      <th></th>\n",
       "      <th>Manufacturer</th>\n",
       "      <th>Equipment</th>\n",
       "    </tr>\n",
       "  </thead>\n",
       "  <tbody>\n",
       "    <tr>\n",
       "      <th>0</th>\n",
       "      <td>Enphase Energy Inc.</td>\n",
       "      <td>IQ7PLUS-72-x-ACM-US (240V)</td>\n",
       "    </tr>\n",
       "    <tr>\n",
       "      <th>1</th>\n",
       "      <td>Enphase Energy Inc.</td>\n",
       "      <td>IQ7-60-x-US (240V)</td>\n",
       "    </tr>\n",
       "    <tr>\n",
       "      <th>2</th>\n",
       "      <td>TESLA</td>\n",
       "      <td>ACPOWERWALL2.0</td>\n",
       "    </tr>\n",
       "    <tr>\n",
       "      <th>3</th>\n",
       "      <td>SolarEdge Technologies Ltd.</td>\n",
       "      <td>SE11400H-US [240V]</td>\n",
       "    </tr>\n",
       "    <tr>\n",
       "      <th>4</th>\n",
       "      <td>Enphase Energy Inc.</td>\n",
       "      <td>IQ7-60-x-US (240V)</td>\n",
       "    </tr>\n",
       "  </tbody>\n",
       "</table>\n",
       "</div>"
      ],
      "text/plain": [
       "                  Manufacturer                   Equipment\n",
       "0          Enphase Energy Inc.  IQ7PLUS-72-x-ACM-US (240V)\n",
       "1          Enphase Energy Inc.          IQ7-60-x-US (240V)\n",
       "2                        TESLA              ACPOWERWALL2.0\n",
       "3  SolarEdge Technologies Ltd.          SE11400H-US [240V]\n",
       "4          Enphase Energy Inc.          IQ7-60-x-US (240V)"
      ]
     },
     "execution_count": 29,
     "metadata": {},
     "output_type": "execute_result"
    }
   ],
   "source": [
    "data.columns = ['Manufacturer', 'Equipment']\n",
    "data.head()"
   ]
  },
  {
   "cell_type": "code",
   "execution_count": 30,
   "metadata": {},
   "outputs": [
    {
     "data": {
      "text/html": [
       "<div>\n",
       "<style scoped>\n",
       "    .dataframe tbody tr th:only-of-type {\n",
       "        vertical-align: middle;\n",
       "    }\n",
       "\n",
       "    .dataframe tbody tr th {\n",
       "        vertical-align: top;\n",
       "    }\n",
       "\n",
       "    .dataframe thead th {\n",
       "        text-align: right;\n",
       "    }\n",
       "</style>\n",
       "<table border=\"1\" class=\"dataframe\">\n",
       "  <thead>\n",
       "    <tr style=\"text-align: right;\">\n",
       "      <th></th>\n",
       "      <th>Manufacturer</th>\n",
       "      <th>Equipment</th>\n",
       "      <th>Concatenate</th>\n",
       "    </tr>\n",
       "  </thead>\n",
       "  <tbody>\n",
       "    <tr>\n",
       "      <th>0</th>\n",
       "      <td>Enphase Energy Inc.</td>\n",
       "      <td>IQ7PLUS-72-x-ACM-US (240V)</td>\n",
       "      <td>Enphase Energy Inc.IQ7PLUS-72-x-ACM-US (240V)</td>\n",
       "    </tr>\n",
       "    <tr>\n",
       "      <th>1</th>\n",
       "      <td>Enphase Energy Inc.</td>\n",
       "      <td>IQ7-60-x-US (240V)</td>\n",
       "      <td>Enphase Energy Inc.IQ7-60-x-US (240V)</td>\n",
       "    </tr>\n",
       "    <tr>\n",
       "      <th>2</th>\n",
       "      <td>TESLA</td>\n",
       "      <td>ACPOWERWALL2.0</td>\n",
       "      <td>TESLAACPOWERWALL2.0</td>\n",
       "    </tr>\n",
       "    <tr>\n",
       "      <th>3</th>\n",
       "      <td>SolarEdge Technologies Ltd.</td>\n",
       "      <td>SE11400H-US [240V]</td>\n",
       "      <td>SolarEdge Technologies Ltd.SE11400H-US [240V]</td>\n",
       "    </tr>\n",
       "    <tr>\n",
       "      <th>4</th>\n",
       "      <td>Enphase Energy Inc.</td>\n",
       "      <td>IQ7-60-x-US (240V)</td>\n",
       "      <td>Enphase Energy Inc.IQ7-60-x-US (240V)</td>\n",
       "    </tr>\n",
       "  </tbody>\n",
       "</table>\n",
       "</div>"
      ],
      "text/plain": [
       "                  Manufacturer                   Equipment  \\\n",
       "0          Enphase Energy Inc.  IQ7PLUS-72-x-ACM-US (240V)   \n",
       "1          Enphase Energy Inc.          IQ7-60-x-US (240V)   \n",
       "2                        TESLA              ACPOWERWALL2.0   \n",
       "3  SolarEdge Technologies Ltd.          SE11400H-US [240V]   \n",
       "4          Enphase Energy Inc.          IQ7-60-x-US (240V)   \n",
       "\n",
       "                                     Concatenate  \n",
       "0  Enphase Energy Inc.IQ7PLUS-72-x-ACM-US (240V)  \n",
       "1          Enphase Energy Inc.IQ7-60-x-US (240V)  \n",
       "2                            TESLAACPOWERWALL2.0  \n",
       "3  SolarEdge Technologies Ltd.SE11400H-US [240V]  \n",
       "4          Enphase Energy Inc.IQ7-60-x-US (240V)  "
      ]
     },
     "execution_count": 30,
     "metadata": {},
     "output_type": "execute_result"
    }
   ],
   "source": [
    "data[\"Concatenate\"] = data[\"Manufacturer\"].map(str) + data[\"Equipment\"]\n",
    "#data[\"value\"]=data[\"1\"]\n",
    "data.head()"
   ]
  },
  {
   "cell_type": "code",
   "execution_count": 31,
   "metadata": {},
   "outputs": [
    {
     "data": {
      "text/plain": [
       "True"
      ]
     },
     "execution_count": 31,
     "metadata": {},
     "output_type": "execute_result"
    }
   ],
   "source": [
    "#To find null values if any\n",
    "data.isnull().values.any()"
   ]
  },
  {
   "cell_type": "code",
   "execution_count": 32,
   "metadata": {},
   "outputs": [
    {
     "data": {
      "text/html": [
       "<div>\n",
       "<style scoped>\n",
       "    .dataframe tbody tr th:only-of-type {\n",
       "        vertical-align: middle;\n",
       "    }\n",
       "\n",
       "    .dataframe tbody tr th {\n",
       "        vertical-align: top;\n",
       "    }\n",
       "\n",
       "    .dataframe thead th {\n",
       "        text-align: right;\n",
       "    }\n",
       "</style>\n",
       "<table border=\"1\" class=\"dataframe\">\n",
       "  <thead>\n",
       "    <tr style=\"text-align: right;\">\n",
       "      <th></th>\n",
       "      <th>Manufacturer</th>\n",
       "      <th>Equipment</th>\n",
       "      <th>Concatenate</th>\n",
       "    </tr>\n",
       "  </thead>\n",
       "  <tbody>\n",
       "    <tr>\n",
       "      <th>0</th>\n",
       "      <td>Enphase Energy Inc.</td>\n",
       "      <td>IQ7PLUS-72-x-ACM-US (240V)</td>\n",
       "      <td>Enphase Energy Inc.IQ7PLUS-72-x-ACM-US (240V)</td>\n",
       "    </tr>\n",
       "    <tr>\n",
       "      <th>1</th>\n",
       "      <td>Enphase Energy Inc.</td>\n",
       "      <td>IQ7-60-x-US (240V)</td>\n",
       "      <td>Enphase Energy Inc.IQ7-60-x-US (240V)</td>\n",
       "    </tr>\n",
       "    <tr>\n",
       "      <th>2</th>\n",
       "      <td>TESLA</td>\n",
       "      <td>ACPOWERWALL2.0</td>\n",
       "      <td>TESLAACPOWERWALL2.0</td>\n",
       "    </tr>\n",
       "    <tr>\n",
       "      <th>3</th>\n",
       "      <td>SolarEdge Technologies Ltd.</td>\n",
       "      <td>SE11400H-US [240V]</td>\n",
       "      <td>SolarEdge Technologies Ltd.SE11400H-US [240V]</td>\n",
       "    </tr>\n",
       "    <tr>\n",
       "      <th>4</th>\n",
       "      <td>Enphase Energy Inc.</td>\n",
       "      <td>IQ7-60-x-US (240V)</td>\n",
       "      <td>Enphase Energy Inc.IQ7-60-x-US (240V)</td>\n",
       "    </tr>\n",
       "  </tbody>\n",
       "</table>\n",
       "</div>"
      ],
      "text/plain": [
       "                  Manufacturer                   Equipment  \\\n",
       "0          Enphase Energy Inc.  IQ7PLUS-72-x-ACM-US (240V)   \n",
       "1          Enphase Energy Inc.          IQ7-60-x-US (240V)   \n",
       "2                        TESLA              ACPOWERWALL2.0   \n",
       "3  SolarEdge Technologies Ltd.          SE11400H-US [240V]   \n",
       "4          Enphase Energy Inc.          IQ7-60-x-US (240V)   \n",
       "\n",
       "                                     Concatenate  \n",
       "0  Enphase Energy Inc.IQ7PLUS-72-x-ACM-US (240V)  \n",
       "1          Enphase Energy Inc.IQ7-60-x-US (240V)  \n",
       "2                            TESLAACPOWERWALL2.0  \n",
       "3  SolarEdge Technologies Ltd.SE11400H-US [240V]  \n",
       "4          Enphase Energy Inc.IQ7-60-x-US (240V)  "
      ]
     },
     "execution_count": 32,
     "metadata": {},
     "output_type": "execute_result"
    }
   ],
   "source": [
    "df=data.dropna()\n",
    "#df.drop(df.columns[[0,1]], axis=1, inplace=True)\n",
    "df.head()\n",
    "#Xfinalval = df[\"address\"]\n",
    "#yfinalval = df[\"value\"]"
   ]
  },
  {
   "cell_type": "code",
   "execution_count": 33,
   "metadata": {},
   "outputs": [
    {
     "data": {
      "text/plain": [
       "False"
      ]
     },
     "execution_count": 33,
     "metadata": {},
     "output_type": "execute_result"
    }
   ],
   "source": [
    "df.isnull().values.any()"
   ]
  },
  {
   "cell_type": "code",
   "execution_count": 34,
   "metadata": {},
   "outputs": [],
   "source": [
    "df.to_csv('Cleaned_equip_original.csv')"
   ]
  },
  {
   "cell_type": "code",
   "execution_count": 150,
   "metadata": {},
   "outputs": [],
   "source": [
    "#print(\"Accuracy final validation: \", clf.score(xfinalval1, yfinalval1))"
   ]
  },
  {
   "cell_type": "code",
   "execution_count": 35,
   "metadata": {},
   "outputs": [],
   "source": [
    "#print(any(df['Concatenate'].duplicated()))                     # <--- Prints True\n",
    "#hello = df.sort_values(by='address').drop_duplicates('address')  # <--- Sort and drop\n",
    "hello = df.drop_duplicates('Concatenate') #just drop\n",
    "#print(any(hello['address'].duplicated())) "
   ]
  },
  {
   "cell_type": "code",
   "execution_count": 36,
   "metadata": {},
   "outputs": [
    {
     "name": "stdout",
     "output_type": "stream",
     "text": [
      "<class 'pandas.core.frame.DataFrame'>\n",
      "Int64Index: 216 entries, 0 to 2714\n",
      "Data columns (total 3 columns):\n",
      "Manufacturer    216 non-null object\n",
      "Equipment       216 non-null object\n",
      "Concatenate     216 non-null object\n",
      "dtypes: object(3)\n",
      "memory usage: 6.8+ KB\n"
     ]
    }
   ],
   "source": [
    "hello.info()"
   ]
  },
  {
   "cell_type": "code",
   "execution_count": 37,
   "metadata": {},
   "outputs": [],
   "source": [
    "hello.to_csv('Duplicate_checker.csv')"
   ]
  },
  {
   "cell_type": "code",
   "execution_count": 38,
   "metadata": {},
   "outputs": [
    {
     "data": {
      "text/html": [
       "<div>\n",
       "<style scoped>\n",
       "    .dataframe tbody tr th:only-of-type {\n",
       "        vertical-align: middle;\n",
       "    }\n",
       "\n",
       "    .dataframe tbody tr th {\n",
       "        vertical-align: top;\n",
       "    }\n",
       "\n",
       "    .dataframe thead th {\n",
       "        text-align: right;\n",
       "    }\n",
       "</style>\n",
       "<table border=\"1\" class=\"dataframe\">\n",
       "  <thead>\n",
       "    <tr style=\"text-align: right;\">\n",
       "      <th></th>\n",
       "      <th>Manufacturer</th>\n",
       "      <th>Equipment</th>\n",
       "      <th>Concatenate</th>\n",
       "    </tr>\n",
       "  </thead>\n",
       "  <tbody>\n",
       "    <tr>\n",
       "      <th>0</th>\n",
       "      <td>Enphase Energy Inc.</td>\n",
       "      <td>IQ7PLUS-72-x-ACM-US (240V)</td>\n",
       "      <td>Enphase Energy Inc.IQ7PLUS-72-x-ACM-US (240V)</td>\n",
       "    </tr>\n",
       "    <tr>\n",
       "      <th>1</th>\n",
       "      <td>Enphase Energy Inc.</td>\n",
       "      <td>IQ7-60-x-US (240V)</td>\n",
       "      <td>Enphase Energy Inc.IQ7-60-x-US (240V)</td>\n",
       "    </tr>\n",
       "    <tr>\n",
       "      <th>2</th>\n",
       "      <td>TESLA</td>\n",
       "      <td>ACPOWERWALL2.0</td>\n",
       "      <td>TESLAACPOWERWALL2.0</td>\n",
       "    </tr>\n",
       "    <tr>\n",
       "      <th>3</th>\n",
       "      <td>SolarEdge Technologies Ltd.</td>\n",
       "      <td>SE11400H-US [240V]</td>\n",
       "      <td>SolarEdge Technologies Ltd.SE11400H-US [240V]</td>\n",
       "    </tr>\n",
       "    <tr>\n",
       "      <th>5</th>\n",
       "      <td>Fronius USA</td>\n",
       "      <td>Fronius Symo 10.0-3 480 [480V]</td>\n",
       "      <td>Fronius USAFronius Symo 10.0-3 480 [480V]</td>\n",
       "    </tr>\n",
       "  </tbody>\n",
       "</table>\n",
       "</div>"
      ],
      "text/plain": [
       "                  Manufacturer                       Equipment  \\\n",
       "0          Enphase Energy Inc.      IQ7PLUS-72-x-ACM-US (240V)   \n",
       "1          Enphase Energy Inc.              IQ7-60-x-US (240V)   \n",
       "2                        TESLA                  ACPOWERWALL2.0   \n",
       "3  SolarEdge Technologies Ltd.              SE11400H-US [240V]   \n",
       "5                  Fronius USA  Fronius Symo 10.0-3 480 [480V]   \n",
       "\n",
       "                                     Concatenate  \n",
       "0  Enphase Energy Inc.IQ7PLUS-72-x-ACM-US (240V)  \n",
       "1          Enphase Energy Inc.IQ7-60-x-US (240V)  \n",
       "2                            TESLAACPOWERWALL2.0  \n",
       "3  SolarEdge Technologies Ltd.SE11400H-US [240V]  \n",
       "5      Fronius USAFronius Symo 10.0-3 480 [480V]  "
      ]
     },
     "execution_count": 38,
     "metadata": {},
     "output_type": "execute_result"
    }
   ],
   "source": [
    "#hello.drop(hello.columns['Unnamed: 0'], axis=1, inplace=True)\n",
    "hello.head()"
   ]
  },
  {
   "cell_type": "code",
   "execution_count": 39,
   "metadata": {},
   "outputs": [
    {
     "name": "stdout",
     "output_type": "stream",
     "text": [
      "<class 'pandas.core.frame.DataFrame'>\n",
      "Int64Index: 216 entries, 0 to 2714\n",
      "Data columns (total 3 columns):\n",
      "Manufacturer    216 non-null object\n",
      "Equipment       216 non-null object\n",
      "Concatenate     216 non-null object\n",
      "dtypes: object(3)\n",
      "memory usage: 6.8+ KB\n"
     ]
    }
   ],
   "source": [
    "hello.info()\n",
    "#length = len(hello)\n",
    "#print (length)"
   ]
  },
  {
   "cell_type": "code",
   "execution_count": 51,
   "metadata": {},
   "outputs": [
    {
     "name": "stdout",
     "output_type": "stream",
     "text": [
      "A5 Inverter : Enphase IQ7 - 60 - 2 - US(240v)()\n"
     ]
    }
   ],
   "source": [
    "from fuzzywuzzy import fuzz\n",
    "Otext = hello.Concatenate\n",
    "Ftext = [\"A5 Inverter : Enphase IQ7 - 60 - 2 - US(240v)()\"]\n",
    "#print (Otext[1])\n",
    "print (Ftext[0])"
   ]
  },
  {
   "cell_type": "code",
   "execution_count": 53,
   "metadata": {},
   "outputs": [
    {
     "name": "stdout",
     "output_type": "stream",
     "text": [
      "--EXTRACTION--\n",
      "The Manufacturer name is -------> Enphase Energy Inc.\n",
      "The Equipment Model number is --> IQ7-60-x-US (240V)\n",
      "\n",
      "\n",
      "--MODEL VALIDATION!--\n",
      "NOT VALIDATED : MATCH : 93\n"
     ]
    }
   ],
   "source": [
    "#Similarity matching code using fuzzy\n",
    "mx =0\n",
    "count =0 \n",
    "for i in Otext:\n",
    "    count = count + 1\n",
    "    x=fuzz.token_set_ratio(Ftext[0], i)\n",
    "    if mx<x:\n",
    "        mx=x\n",
    "        thread = i\n",
    "    else:\n",
    "        mx = mx\n",
    "if mx<70: #------------>THRESHOLD SET\n",
    "    print (\"Insufficient match according to threshold :\",mx,\". I still can predict if you lower the threshold!\")\n",
    "else:\n",
    "    #print (\"Similarity matching percentage-->\",mx,\"percentage\")\n",
    "    print(\"--EXTRACTION--\")\n",
    "    #print (\"The classifier input  is ------->\", Ftext[0])\n",
    "    #print (\"The fuzzy pipeline output is --->\", thread)\n",
    "    for row in Otext.index:\n",
    "        if hello.Concatenate[row]==thread:\n",
    "            rowfinal = row\n",
    "            break\n",
    "    print(\"The Manufacturer name is ------->\" , hello.Manufacturer[rowfinal] )  \n",
    "    print(\"The Equipment Model number is -->\" , hello.Equipment[rowfinal] )  \n",
    "    y=fuzz.token_set_ratio(Ftext[0],hello.Equipment[rowfinal])\n",
    "    if y==100: #model threshold\n",
    "        print(\"\\n--MODEL VALIDATION--\")\n",
    "        print(\"MODEL MATCH :\",y,\"----> The equipment is validated :\",hello.Equipment[rowfinal])\n",
    "    else:\n",
    "        print(\"\\n\")\n",
    "        print(\"--MODEL VALIDATION!--\")\n",
    "        print(\"NOT VALIDATED : MATCH :\",y)\n",
    "    z=fuzz.token_set_ratio(Ftext[0], hello.Manufacturer[rowfinal])\n",
    "    #print(\"\\nManufacturer name match :\",z)"
   ]
  },
  {
   "cell_type": "code",
   "execution_count": 48,
   "metadata": {},
   "outputs": [],
   "source": [
    "# nput=\"32 HANWHA Q . PEAK DUO BLK - G5 315 315W MODULES PAIRED\"\n",
    "# output=\"Hanwha Q CELLS,Q.PEAK DUO BLK-G5 315\"\n",
    "# a=fuzz.ratio(nput, output)\n",
    "# b=fuzz.partial_ratio(nput, output)\n",
    "# c=fuzz.token_sort_ratio(nput, output)\n",
    "# d=fuzz.token_set_ratio(nput, output)\n",
    "# print(a,b,c,d)\n",
    "\n"
   ]
  },
  {
   "cell_type": "code",
   "execution_count": null,
   "metadata": {},
   "outputs": [],
   "source": []
  }
 ],
 "metadata": {
  "kernelspec": {
   "display_name": "Python 3",
   "language": "python",
   "name": "python3"
  },
  "language_info": {
   "codemirror_mode": {
    "name": "ipython",
    "version": 3
   },
   "file_extension": ".py",
   "mimetype": "text/x-python",
   "name": "python",
   "nbconvert_exporter": "python",
   "pygments_lexer": "ipython3",
   "version": "3.7.3"
  }
 },
 "nbformat": 4,
 "nbformat_minor": 2
}
